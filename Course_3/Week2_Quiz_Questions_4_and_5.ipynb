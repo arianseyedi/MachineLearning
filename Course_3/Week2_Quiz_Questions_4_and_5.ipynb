{
 "cells": [
  {
   "cell_type": "code",
   "execution_count": 1,
   "metadata": {},
   "outputs": [],
   "source": [
    "import numpy as np"
   ]
  },
  {
   "attachments": {},
   "cell_type": "markdown",
   "metadata": {},
   "source": [
    "### Question 4\n",
    "\n",
    "```\n",
    "Consider the setting where our inputs are 1-dimensional. We have data\n",
    "\n",
    "xx\tyy\n",
    "2.5\t+1\n",
    "0.3\t-1\n",
    "2.8\t+1\n",
    "0.5\t+1\n",
    "\n",
    "and the current estimates of the weights are w_intercept = 0 and w_1 = 1\n",
    "Calculate the likelihood of this data. Round your answer to 2 decimal places.\n",
    "```"
   ]
  },
  {
   "cell_type": "code",
   "execution_count": 2,
   "metadata": {},
   "outputs": [
    {
     "name": "stdout",
     "output_type": "stream",
     "text": [
      "0.23076514147414118\n"
     ]
    }
   ],
   "source": [
    "x = np.array([2.5,0.3,2.8,0.5])\n",
    "y = np.array([1,0,1,1])\n",
    "w0 = 0\n",
    "w1 = 1\n",
    "def ypre(x,w0,w1):\n",
    "    score = w0 + x * w1\n",
    "    return sigmoid(score)\n",
    "def sigmoid(score):\n",
    "    return 1.0/(1+ (np.exp(-score)))\n",
    "lik = 1\n",
    "for i in range(len(x)):\n",
    "    if i == 1:\n",
    "        lik *= (1 - ypre(x[i], 0, 1))\n",
    "    else:\n",
    "        lik *= (ypre(x[i], 0, 1))\n",
    "print lik\n",
    "# 0.230765141474"
   ]
  },
  {
   "cell_type": "markdown",
   "metadata": {},
   "source": [
    "### Question 5\n",
    "\n",
    "```\n",
    "Refer to the scenario given in Question 4 to answer the following:\n",
    "\n",
    "Calculate the derivative of the log likelihood with respect to w_1w Round your answer to 2 decimal places.\n",
    "```"
   ]
  },
  {
   "cell_type": "code",
   "execution_count": 3,
   "metadata": {},
   "outputs": [
    {
     "name": "stdout",
     "output_type": "stream",
     "text": [
      "0.36659072192551606\n"
     ]
    }
   ],
   "source": [
    "def der(hx, ytrue, ypre):\n",
    "    return hx * (ytrue - ypre)\n",
    "sum = 0\n",
    "for i in range(len(x)):\n",
    "    sum += der(x[i],y[i],ypre(x[i],0,1))\n",
    "    \n",
    "print sum\n",
    "# 0.366590721926"
   ]
  },
  {
   "cell_type": "code",
   "execution_count": null,
   "metadata": {},
   "outputs": [],
   "source": []
  }
 ],
 "metadata": {
  "kernelspec": {
   "display_name": "Python 2",
   "language": "python",
   "name": "python2"
  },
  "language_info": {
   "codemirror_mode": {
    "name": "ipython",
    "version": 2
   },
   "file_extension": ".py",
   "mimetype": "text/x-python",
   "name": "python",
   "nbconvert_exporter": "python",
   "pygments_lexer": "ipython2",
   "version": "2.7.13"
  }
 },
 "nbformat": 4,
 "nbformat_minor": 2
}
